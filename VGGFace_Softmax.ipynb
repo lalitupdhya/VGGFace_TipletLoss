{
  "nbformat": 4,
  "nbformat_minor": 0,
  "metadata": {
    "colab": {
      "name": "VGGFace-Softmax.ipynb",
      "provenance": [],
      "collapsed_sections": []
    },
    "kernelspec": {
      "name": "python3",
      "display_name": "Python 3"
    }
  },
  "cells": [
    {
      "cell_type": "code",
      "metadata": {
        "colab": {
          "base_uri": "https://localhost:8080/"
        },
        "id": "k3y_KAn7vOGo",
        "outputId": "abf21cde-159a-4117-a43e-b492ab28ab6d"
      },
      "source": [
        "%cd /content/drive/MyDrive/VGG_Face"
      ],
      "execution_count": null,
      "outputs": [
        {
          "output_type": "stream",
          "text": [
            "/content/drive/MyDrive/VGG_Face\n"
          ],
          "name": "stdout"
        }
      ]
    },
    {
      "cell_type": "code",
      "metadata": {
        "id": "gsgTHpfdOor5"
      },
      "source": [
        "#procedure to download kaggle datasets to google drive\n",
        "import os\n",
        "\n",
        "os.environ['KAGGLE_USERNAME'] = \"lalit871\" # username from the json file\n",
        "os.environ['KAGGLE_KEY'] = \"3c73e02f6583673b8cf22e6a965e2de5\" # key from the json file"
      ],
      "execution_count": null,
      "outputs": []
    },
    {
      "cell_type": "code",
      "metadata": {
        "id": "21WkbVWevgAI"
      },
      "source": [
        "!mkdir VGG_Face"
      ],
      "execution_count": null,
      "outputs": []
    },
    {
      "cell_type": "code",
      "metadata": {
        "colab": {
          "base_uri": "https://localhost:8080/"
        },
        "id": "ShfTlihAvjzA",
        "outputId": "986d214b-1e61-4071-cbe7-54f15e68481c"
      },
      "source": [
        "%cd VGG_Face"
      ],
      "execution_count": null,
      "outputs": [
        {
          "output_type": "stream",
          "text": [
            "/content/drive/MyDrive/VGG_Face\n"
          ],
          "name": "stdout"
        }
      ]
    },
    {
      "cell_type": "code",
      "metadata": {
        "colab": {
          "base_uri": "https://localhost:8080/"
        },
        "id": "xbbpdsXcvpAz",
        "outputId": "5829c745-c888-4629-ff5c-aeff0aa78c95"
      },
      "source": [
        "!wget https://www.robots.ox.ac.uk/~vgg/software/vgg_face/src/vgg_face_matconvnet.tar.gz"
      ],
      "execution_count": null,
      "outputs": [
        {
          "output_type": "stream",
          "text": [
            "--2021-02-09 03:04:12--  https://www.robots.ox.ac.uk/~vgg/software/vgg_face/src/vgg_face_matconvnet.tar.gz\n",
            "Resolving www.robots.ox.ac.uk (www.robots.ox.ac.uk)... 129.67.94.2\n",
            "Connecting to www.robots.ox.ac.uk (www.robots.ox.ac.uk)|129.67.94.2|:443... connected.\n",
            "HTTP request sent, awaiting response... 200 OK\n",
            "Length: 1086906808 (1.0G) [application/x-gzip]\n",
            "Saving to: ‘vgg_face_matconvnet.tar.gz’\n",
            "\n",
            "vgg_face_matconvnet 100%[===================>]   1.01G  58.2MB/s    in 17s     \n",
            "\n",
            "2021-02-09 03:04:29 (61.0 MB/s) - ‘vgg_face_matconvnet.tar.gz’ saved [1086906808/1086906808]\n",
            "\n"
          ],
          "name": "stdout"
        }
      ]
    },
    {
      "cell_type": "code",
      "metadata": {
        "id": "NAeBvwujv5LB"
      },
      "source": [
        "!tar -xf /content/drive/MyDrive/VGG_Face/vgg_face_matconvnet.tar.gz"
      ],
      "execution_count": null,
      "outputs": []
    },
    {
      "cell_type": "code",
      "metadata": {
        "id": "Me1I5OB_wAxx"
      },
      "source": [
        "import numpy as np\n",
        "from tensorflow.keras import Model\n",
        "from google.colab.patches import cv2_imshow\n",
        "import os\n",
        "import itertools\n",
        "import cv2\n",
        "from scipy.io import loadmat\n",
        "import tensorflow as tf\n",
        "from tensorflow.keras.preprocessing.image import load_img, img_to_array, array_to_img\n",
        "from tensorflow.keras.applications.imagenet_utils import preprocess_input\n",
        "from tensorflow.keras.models import Sequential\n",
        "from tensorflow.keras.layers import Dense, Flatten, Conv2D, MaxPooling2D, ZeroPadding2D, Activation, Dropout\n",
        "from keras.preprocessing.image import ImageDataGenerator\n",
        "from keras.optimizers import SGD\n",
        "from sklearn.preprocessing import LabelBinarizer\n",
        "from sklearn.metrics import classification_report\n",
        "import matplotlib.pyplot as plt\n",
        "from skimage import io, transform\n",
        "from PIL import Image\n",
        "from pathlib import Path\n",
        "import pandas as pd"
      ],
      "execution_count": null,
      "outputs": []
    },
    {
      "cell_type": "code",
      "metadata": {
        "colab": {
          "base_uri": "https://localhost:8080/"
        },
        "id": "M3O31glOx913",
        "outputId": "5273540e-757c-4ae0-c364-f8153c46754b"
      },
      "source": [
        "data = loadmat('/content/drive/MyDrive/VGG_Face/vgg_face_matconvnet/data/vgg_face.mat', matlab_compatible=False, struct_as_record=False)\n",
        "data"
      ],
      "execution_count": null,
      "outputs": [
        {
          "output_type": "execute_result",
          "data": {
            "text/plain": [
              "{'__globals__': [],\n",
              " '__header__': b'MATLAB 5.0 MAT-file, Platform: MACI64, Created on: Tue Oct 13 16:54:01 2015',\n",
              " '__version__': '1.0',\n",
              " 'net': array([[<scipy.io.matlab.mio5_params.mat_struct object at 0x7fe547e38590>]],\n",
              "       dtype=object)}"
            ]
          },
          "metadata": {
            "tags": []
          },
          "execution_count": 3
        }
      ]
    },
    {
      "cell_type": "code",
      "metadata": {
        "id": "SUfA7nM_yEHd"
      },
      "source": [
        "net = data['net'][0][0]"
      ],
      "execution_count": null,
      "outputs": []
    },
    {
      "cell_type": "code",
      "metadata": {
        "colab": {
          "base_uri": "https://localhost:8080/"
        },
        "id": "TaRbSaThzCO4",
        "outputId": "c4c2e2e1-a201-49dc-99df-2c4c4f7047e8"
      },
      "source": [
        "model_layers = net.layers\n",
        "model_layers.shape"
      ],
      "execution_count": null,
      "outputs": [
        {
          "output_type": "execute_result",
          "data": {
            "text/plain": [
              "(1, 39)"
            ]
          },
          "metadata": {
            "tags": []
          },
          "execution_count": 5
        }
      ]
    },
    {
      "cell_type": "code",
      "metadata": {
        "id": "aDmvFSGzF0Ri"
      },
      "source": [
        "l = model_layers.shape[1]"
      ],
      "execution_count": null,
      "outputs": []
    },
    {
      "cell_type": "code",
      "metadata": {
        "id": "qvRGkGKfzJZu",
        "colab": {
          "base_uri": "https://localhost:8080/"
        },
        "outputId": "ebf4565c-8880-45be-ba04-ee114d2c8479"
      },
      "source": [
        "for k in range(l):\n",
        "    try:\n",
        "        print(f'{model_layers[0][k][0][0].name}----->{model_layers[0][k][0][0].weights[0][0].shape}')\n",
        "    except:\n",
        "        print(f'{model_layers[0][k][0][0].name}')"
      ],
      "execution_count": null,
      "outputs": [
        {
          "output_type": "stream",
          "text": [
            "['conv1_1']----->(3, 3, 3, 64)\n",
            "['relu1_1']\n",
            "['conv1_2']----->(3, 3, 64, 64)\n",
            "['relu1_2']\n",
            "['pool1']\n",
            "['conv2_1']----->(3, 3, 64, 128)\n",
            "['relu2_1']\n",
            "['conv2_2']----->(3, 3, 128, 128)\n",
            "['relu2_2']\n",
            "['pool2']\n",
            "['conv3_1']----->(3, 3, 128, 256)\n",
            "['relu3_1']\n",
            "['conv3_2']----->(3, 3, 256, 256)\n",
            "['relu3_2']\n",
            "['conv3_3']----->(3, 3, 256, 256)\n",
            "['relu3_3']\n",
            "['pool3']\n",
            "['conv4_1']----->(3, 3, 256, 512)\n",
            "['relu4_1']\n",
            "['conv4_2']----->(3, 3, 512, 512)\n",
            "['relu4_2']\n",
            "['conv4_3']----->(3, 3, 512, 512)\n",
            "['relu4_3']\n",
            "['pool4']\n",
            "['conv5_1']----->(3, 3, 512, 512)\n",
            "['relu5_1']\n",
            "['conv5_2']----->(3, 3, 512, 512)\n",
            "['relu5_2']\n",
            "['conv5_3']----->(3, 3, 512, 512)\n",
            "['relu5_3']\n",
            "['pool5']\n",
            "['fc6']----->(7, 7, 512, 4096)\n",
            "['relu6']\n",
            "['dropout6']\n",
            "['fc7']----->(1, 1, 4096, 4096)\n",
            "['relu7']\n",
            "['dropout7']\n",
            "['fc8']----->(1, 1, 4096, 2622)\n",
            "['softmax']\n"
          ],
          "name": "stdout"
        }
      ]
    },
    {
      "cell_type": "code",
      "metadata": {
        "id": "qBYl87iaI2XO"
      },
      "source": [
        "model = Sequential()\n",
        " \n",
        "for k in range(l):\n",
        "    model_layer = model_layers[0][k][0][0].name[0]\n",
        "    if model_layer.find(\"conv\") == 0 or model_layer.find(\"fc\") == 0:\n",
        "        weights = model_layers[0][k][0][0].weights\n",
        "        weight_shape = weights[0][0].shape\n",
        "        filter_x = weight_shape[0]\n",
        "        filter_y = weight_shape[1]\n",
        "        number_of_filters = weight_shape[3]\n",
        " \n",
        "        if model_layer.find(\"conv\") == 0:\n",
        "            if k == 0:\n",
        "                model.add(ZeroPadding2D((1,1),input_shape=(224,224, 3)))\n",
        "            else:\n",
        "                model.add(ZeroPadding2D((1,1)))\n",
        "        model.add(Conv2D(number_of_filters, (filter_x, filter_y), name= model_layer))\n",
        "    \n",
        "    else:\n",
        "        if model_layer.find(\"relu\") == 0:\n",
        "            model.add(Activation('relu', name= model_layer))\n",
        "        elif model_layer.find(\"dropout\") == 0:\n",
        "            model.add(Dropout(0.5, name= model_layer))\n",
        "        elif model_layer.find(\"pool\") == 0:\n",
        "            model.add(MaxPooling2D((2,2), strides=(2,2), name= model_layer))\n",
        "        elif model_layer.find(\"softmax\") == 0:\n",
        "            model.add(Activation('softmax', name= model_layer))\n",
        "        else:\n",
        "            print(\"This layer was not processed: \", model_layer)"
      ],
      "execution_count": null,
      "outputs": []
    },
    {
      "cell_type": "code",
      "metadata": {
        "id": "knNeRL6OiAQe",
        "colab": {
          "base_uri": "https://localhost:8080/"
        },
        "outputId": "065ca898-ee31-49bc-cf10-8cba4813461c"
      },
      "source": [
        "base_model_layer_names = [layer.name for layer in model.layers]\n",
        "num_of_ref_model_layers = model_layers.shape[1]\n",
        "for i in range(num_of_ref_model_layers):\n",
        " ref_model_layer = model_layers[0][i][0][0].name[0]\n",
        " if ref_model_layer in base_model_layer_names:\n",
        "  #we just need to set convolution and fully connected weights\n",
        "  if ref_model_layer.find(\"conv\") == 0 or ref_model_layer.find(\"fc\") == 0:\n",
        "   print(i,\". \",ref_model_layer)\n",
        "   base_model_index = base_model_layer_names.index(ref_model_layer)\n",
        " \n",
        "   weights = model_layers[0][i][0][0].weights[0,0]\n",
        "   bias = model_layers[0][i][0][0].weights[0,1]\n",
        " \n",
        "   model.layers[base_model_index].set_weights([weights, bias[:,0]])\n"
      ],
      "execution_count": null,
      "outputs": [
        {
          "output_type": "stream",
          "text": [
            "0 .  conv1_1\n",
            "2 .  conv1_2\n",
            "5 .  conv2_1\n",
            "7 .  conv2_2\n",
            "10 .  conv3_1\n",
            "12 .  conv3_2\n",
            "14 .  conv3_3\n",
            "17 .  conv4_1\n",
            "19 .  conv4_2\n",
            "21 .  conv4_3\n",
            "24 .  conv5_1\n",
            "26 .  conv5_2\n",
            "28 .  conv5_3\n",
            "31 .  fc6\n",
            "34 .  fc7\n",
            "37 .  fc8\n"
          ],
          "name": "stdout"
        }
      ]
    },
    {
      "cell_type": "code",
      "metadata": {
        "id": "2LhdOWWlT0uC",
        "colab": {
          "base_uri": "https://localhost:8080/"
        },
        "outputId": "0c777a46-5db1-4f0e-c4a0-7e3a979b7302"
      },
      "source": [
        "model.summary()"
      ],
      "execution_count": null,
      "outputs": [
        {
          "output_type": "stream",
          "text": [
            "Model: \"sequential\"\n",
            "_________________________________________________________________\n",
            "Layer (type)                 Output Shape              Param #   \n",
            "=================================================================\n",
            "zero_padding2d (ZeroPadding2 (None, 226, 226, 3)       0         \n",
            "_________________________________________________________________\n",
            "conv1_1 (Conv2D)             (None, 224, 224, 64)      1792      \n",
            "_________________________________________________________________\n",
            "relu1_1 (Activation)         (None, 224, 224, 64)      0         \n",
            "_________________________________________________________________\n",
            "zero_padding2d_1 (ZeroPaddin (None, 226, 226, 64)      0         \n",
            "_________________________________________________________________\n",
            "conv1_2 (Conv2D)             (None, 224, 224, 64)      36928     \n",
            "_________________________________________________________________\n",
            "relu1_2 (Activation)         (None, 224, 224, 64)      0         \n",
            "_________________________________________________________________\n",
            "pool1 (MaxPooling2D)         (None, 112, 112, 64)      0         \n",
            "_________________________________________________________________\n",
            "zero_padding2d_2 (ZeroPaddin (None, 114, 114, 64)      0         \n",
            "_________________________________________________________________\n",
            "conv2_1 (Conv2D)             (None, 112, 112, 128)     73856     \n",
            "_________________________________________________________________\n",
            "relu2_1 (Activation)         (None, 112, 112, 128)     0         \n",
            "_________________________________________________________________\n",
            "zero_padding2d_3 (ZeroPaddin (None, 114, 114, 128)     0         \n",
            "_________________________________________________________________\n",
            "conv2_2 (Conv2D)             (None, 112, 112, 128)     147584    \n",
            "_________________________________________________________________\n",
            "relu2_2 (Activation)         (None, 112, 112, 128)     0         \n",
            "_________________________________________________________________\n",
            "pool2 (MaxPooling2D)         (None, 56, 56, 128)       0         \n",
            "_________________________________________________________________\n",
            "zero_padding2d_4 (ZeroPaddin (None, 58, 58, 128)       0         \n",
            "_________________________________________________________________\n",
            "conv3_1 (Conv2D)             (None, 56, 56, 256)       295168    \n",
            "_________________________________________________________________\n",
            "relu3_1 (Activation)         (None, 56, 56, 256)       0         \n",
            "_________________________________________________________________\n",
            "zero_padding2d_5 (ZeroPaddin (None, 58, 58, 256)       0         \n",
            "_________________________________________________________________\n",
            "conv3_2 (Conv2D)             (None, 56, 56, 256)       590080    \n",
            "_________________________________________________________________\n",
            "relu3_2 (Activation)         (None, 56, 56, 256)       0         \n",
            "_________________________________________________________________\n",
            "zero_padding2d_6 (ZeroPaddin (None, 58, 58, 256)       0         \n",
            "_________________________________________________________________\n",
            "conv3_3 (Conv2D)             (None, 56, 56, 256)       590080    \n",
            "_________________________________________________________________\n",
            "relu3_3 (Activation)         (None, 56, 56, 256)       0         \n",
            "_________________________________________________________________\n",
            "pool3 (MaxPooling2D)         (None, 28, 28, 256)       0         \n",
            "_________________________________________________________________\n",
            "zero_padding2d_7 (ZeroPaddin (None, 30, 30, 256)       0         \n",
            "_________________________________________________________________\n",
            "conv4_1 (Conv2D)             (None, 28, 28, 512)       1180160   \n",
            "_________________________________________________________________\n",
            "relu4_1 (Activation)         (None, 28, 28, 512)       0         \n",
            "_________________________________________________________________\n",
            "zero_padding2d_8 (ZeroPaddin (None, 30, 30, 512)       0         \n",
            "_________________________________________________________________\n",
            "conv4_2 (Conv2D)             (None, 28, 28, 512)       2359808   \n",
            "_________________________________________________________________\n",
            "relu4_2 (Activation)         (None, 28, 28, 512)       0         \n",
            "_________________________________________________________________\n",
            "zero_padding2d_9 (ZeroPaddin (None, 30, 30, 512)       0         \n",
            "_________________________________________________________________\n",
            "conv4_3 (Conv2D)             (None, 28, 28, 512)       2359808   \n",
            "_________________________________________________________________\n",
            "relu4_3 (Activation)         (None, 28, 28, 512)       0         \n",
            "_________________________________________________________________\n",
            "pool4 (MaxPooling2D)         (None, 14, 14, 512)       0         \n",
            "_________________________________________________________________\n",
            "zero_padding2d_10 (ZeroPaddi (None, 16, 16, 512)       0         \n",
            "_________________________________________________________________\n",
            "conv5_1 (Conv2D)             (None, 14, 14, 512)       2359808   \n",
            "_________________________________________________________________\n",
            "relu5_1 (Activation)         (None, 14, 14, 512)       0         \n",
            "_________________________________________________________________\n",
            "zero_padding2d_11 (ZeroPaddi (None, 16, 16, 512)       0         \n",
            "_________________________________________________________________\n",
            "conv5_2 (Conv2D)             (None, 14, 14, 512)       2359808   \n",
            "_________________________________________________________________\n",
            "relu5_2 (Activation)         (None, 14, 14, 512)       0         \n",
            "_________________________________________________________________\n",
            "zero_padding2d_12 (ZeroPaddi (None, 16, 16, 512)       0         \n",
            "_________________________________________________________________\n",
            "conv5_3 (Conv2D)             (None, 14, 14, 512)       2359808   \n",
            "_________________________________________________________________\n",
            "relu5_3 (Activation)         (None, 14, 14, 512)       0         \n",
            "_________________________________________________________________\n",
            "pool5 (MaxPooling2D)         (None, 7, 7, 512)         0         \n",
            "_________________________________________________________________\n",
            "fc6 (Conv2D)                 (None, 1, 1, 4096)        102764544 \n",
            "_________________________________________________________________\n",
            "relu6 (Activation)           (None, 1, 1, 4096)        0         \n",
            "_________________________________________________________________\n",
            "dropout6 (Dropout)           (None, 1, 1, 4096)        0         \n",
            "_________________________________________________________________\n",
            "fc7 (Conv2D)                 (None, 1, 1, 4096)        16781312  \n",
            "_________________________________________________________________\n",
            "relu7 (Activation)           (None, 1, 1, 4096)        0         \n",
            "_________________________________________________________________\n",
            "dropout7 (Dropout)           (None, 1, 1, 4096)        0         \n",
            "_________________________________________________________________\n",
            "fc8 (Conv2D)                 (None, 1, 1, 2622)        10742334  \n",
            "_________________________________________________________________\n",
            "softmax (Activation)         (None, 1, 1, 2622)        0         \n",
            "=================================================================\n",
            "Total params: 145,002,878\n",
            "Trainable params: 145,002,878\n",
            "Non-trainable params: 0\n",
            "_________________________________________________________________\n"
          ],
          "name": "stdout"
        }
      ]
    },
    {
      "cell_type": "markdown",
      "metadata": {
        "id": "pXL8nBmFn3Jp"
      },
      "source": [
        "**Image Preprocessing**"
      ]
    },
    {
      "cell_type": "code",
      "metadata": {
        "id": "AzUxDr-w41Qn"
      },
      "source": [
        "def preprocess_image(image_path):\n",
        "    img = load_img(image_path, target_size=(224, 224))\n",
        "    img = img_to_array(img)\n",
        "    img = np.expand_dims(img, axis=0)\n",
        "    img = preprocess_input(img)\n",
        "    return img"
      ],
      "execution_count": null,
      "outputs": []
    },
    {
      "cell_type": "markdown",
      "metadata": {
        "id": "d9ufupQxn8Lk"
      },
      "source": [
        "**Euclidean Distance**"
      ]
    },
    {
      "cell_type": "code",
      "metadata": {
        "id": "YlEcD9NY7DvT"
      },
      "source": [
        "def findEuclideanDistance(source_representation, test_representation):\n",
        "    euclidean_distance = source_representation - test_representation\n",
        "    euclidean_distance = np.sum(np.multiply(euclidean_distance, euclidean_distance))\n",
        "    euclidean_distance = np.sqrt(euclidean_distance)\n",
        "    return euclidean_distance\n",
        "\n",
        "# def findCosineDistance(source_representation, test_representation):\n",
        "#     a = np.matmul(np.transpose(source_representation), test_representation)\n",
        "#     b = np.sum(np.multiply(source_representation, source_representation))\n",
        "#     c = np.sum(np.multiply(test_representation, test_representation))\n",
        "#     return 1 - (a / (np.sqrt(b) * np.sqrt(c)))"
      ],
      "execution_count": null,
      "outputs": []
    },
    {
      "cell_type": "markdown",
      "metadata": {
        "id": "FNNaPW4-oClY"
      },
      "source": [
        "**Finding distance using feature vectors**"
      ]
    },
    {
      "cell_type": "code",
      "metadata": {
        "id": "87ZB3HKPc-l1"
      },
      "source": [
        "def verifyFace(img1, img2):\n",
        "    img1_representation = vgg_face_descriptor.predict(preprocess_image(img1))\n",
        "    img2_representation = vgg_face_descriptor.predict(preprocess_image(img2))\n",
        " \n",
        "    # cosine_similarity = findCosineDistance(img1_representation[0,:], img2_representation[0,:])\n",
        "    euclidean_distance = findEuclideanDistance(img1_representation[0,:], img2_representation[0,:])\n",
        "    return euclidean_distance"
      ],
      "execution_count": null,
      "outputs": []
    },
    {
      "cell_type": "code",
      "metadata": {
        "id": "BZ0fF8gZV4rf"
      },
      "source": [
        "vgg_face_descriptor = Model(inputs=model.layers[0].input, outputs=model.layers[-2].output) # face model "
      ],
      "execution_count": null,
      "outputs": []
    },
    {
      "cell_type": "markdown",
      "metadata": {
        "id": "t3I4L_ttoW4h"
      },
      "source": [
        "**Creating match and mismatch pairs**"
      ]
    },
    {
      "cell_type": "code",
      "metadata": {
        "id": "3-MWceg9ZyEl"
      },
      "source": [
        "path = '/content/drive/MyDrive/VGG_Face/lfw-deepfunneled/dataset/'"
      ],
      "execution_count": null,
      "outputs": []
    },
    {
      "cell_type": "code",
      "metadata": {
        "id": "3xiezZydHfd6"
      },
      "source": [
        "#Identities\n",
        "idendities = {\n",
        " \"Angelina\": [\"img1.jpg\", \"img2.jpg\", \"img4.jpg\"\n",
        " , \"img5.jpg\", \"img6.jpg\", \"img7.jpg\", \"img10.jpg\", \"img11.jpg\"],\n",
        " \"Scarlett\": [\"img8.jpg\", \"img9.jpg\"],\n",
        " \"Jennifer\": [\"img3.jpg\", \"img12.jpg\"],\n",
        " \"Mark\": [\"img13.jpg\", \"img14.jpg\", \"img15.jpg\"],\n",
        " \"Jack\": [\"img16.jpg\", \"img17.jpg\"],\n",
        " \"Elon\": [\"img18.jpg\", \"img19.jpg\"],\n",
        " \"Jeff\": [\"img20.jpg\", \"img21.jpg\"],\n",
        " \"Marissa\": [\"img22.jpg\", \"img23.jpg\"],\n",
        " \"Sundar\": [\"img24.jpg\", \"img25.jpg\"]\n",
        "}"
      ],
      "execution_count": null,
      "outputs": []
    },
    {
      "cell_type": "code",
      "metadata": {
        "id": "ZojbjWYQVvAs"
      },
      "source": [
        "#Positives\n",
        "positives = []\n",
        "for key, values in idendities.items():\n",
        " for i in range(0, len(values)-1):\n",
        "  for j in range(i+1, len(values)):\n",
        "   positive = []\n",
        "   positive.append(path+values[i])\n",
        "   positive.append(path+values[j])\n",
        "   positives.append(positive)\n",
        " \n",
        "positives = pd.DataFrame(positives, columns = [\"file_x\", \"file_y\"])\n",
        "positives[\"decision\"] = \"Yes\""
      ],
      "execution_count": null,
      "outputs": []
    },
    {
      "cell_type": "code",
      "metadata": {
        "id": "GzrFvUPTVyLk"
      },
      "source": [
        "samples_list = list(idendities.values())\n",
        " \n",
        "#negatives\n",
        "negatives = []\n",
        "for i in range(0, len(idendities) - 1):\n",
        " for j in range(i+1, len(idendities)):\n",
        "  cross_product = itertools.product(samples_list[i], samples_list[j])\n",
        "  cross_product = list(cross_product)\n",
        " \n",
        "  for cross_sample in cross_product:\n",
        "   negative = []\n",
        "   negative.append(path+cross_sample[0])\n",
        "   negative.append(path+cross_sample[1])\n",
        "   negatives.append(negative)\n",
        " \n",
        "negatives = pd.DataFrame(negatives, columns = [\"file_x\", \"file_y\"])\n",
        "negatives[\"decision\"] = \"No\""
      ],
      "execution_count": null,
      "outputs": []
    },
    {
      "cell_type": "code",
      "metadata": {
        "id": "7YhInmJvV7S0"
      },
      "source": [
        "df = pd.concat([positives, negatives]).reset_index(drop = True)"
      ],
      "execution_count": null,
      "outputs": []
    },
    {
      "cell_type": "code",
      "metadata": {
        "colab": {
          "base_uri": "https://localhost:8080/",
          "height": 197
        },
        "id": "Y5AC_RvEWHdd",
        "outputId": "f264355d-6fff-4b55-a9db-a0c1d6ab46c4"
      },
      "source": [
        "df.head(5)"
      ],
      "execution_count": null,
      "outputs": [
        {
          "output_type": "execute_result",
          "data": {
            "text/html": [
              "<div>\n",
              "<style scoped>\n",
              "    .dataframe tbody tr th:only-of-type {\n",
              "        vertical-align: middle;\n",
              "    }\n",
              "\n",
              "    .dataframe tbody tr th {\n",
              "        vertical-align: top;\n",
              "    }\n",
              "\n",
              "    .dataframe thead th {\n",
              "        text-align: right;\n",
              "    }\n",
              "</style>\n",
              "<table border=\"1\" class=\"dataframe\">\n",
              "  <thead>\n",
              "    <tr style=\"text-align: right;\">\n",
              "      <th></th>\n",
              "      <th>file_x</th>\n",
              "      <th>file_y</th>\n",
              "      <th>decision</th>\n",
              "    </tr>\n",
              "  </thead>\n",
              "  <tbody>\n",
              "    <tr>\n",
              "      <th>0</th>\n",
              "      <td>/content/drive/MyDrive/VGG_Face/lfw-deepfunnel...</td>\n",
              "      <td>/content/drive/MyDrive/VGG_Face/lfw-deepfunnel...</td>\n",
              "      <td>Yes</td>\n",
              "    </tr>\n",
              "    <tr>\n",
              "      <th>1</th>\n",
              "      <td>/content/drive/MyDrive/VGG_Face/lfw-deepfunnel...</td>\n",
              "      <td>/content/drive/MyDrive/VGG_Face/lfw-deepfunnel...</td>\n",
              "      <td>Yes</td>\n",
              "    </tr>\n",
              "    <tr>\n",
              "      <th>2</th>\n",
              "      <td>/content/drive/MyDrive/VGG_Face/lfw-deepfunnel...</td>\n",
              "      <td>/content/drive/MyDrive/VGG_Face/lfw-deepfunnel...</td>\n",
              "      <td>Yes</td>\n",
              "    </tr>\n",
              "    <tr>\n",
              "      <th>3</th>\n",
              "      <td>/content/drive/MyDrive/VGG_Face/lfw-deepfunnel...</td>\n",
              "      <td>/content/drive/MyDrive/VGG_Face/lfw-deepfunnel...</td>\n",
              "      <td>Yes</td>\n",
              "    </tr>\n",
              "    <tr>\n",
              "      <th>4</th>\n",
              "      <td>/content/drive/MyDrive/VGG_Face/lfw-deepfunnel...</td>\n",
              "      <td>/content/drive/MyDrive/VGG_Face/lfw-deepfunnel...</td>\n",
              "      <td>Yes</td>\n",
              "    </tr>\n",
              "  </tbody>\n",
              "</table>\n",
              "</div>"
            ],
            "text/plain": [
              "                                              file_x  ... decision\n",
              "0  /content/drive/MyDrive/VGG_Face/lfw-deepfunnel...  ...      Yes\n",
              "1  /content/drive/MyDrive/VGG_Face/lfw-deepfunnel...  ...      Yes\n",
              "2  /content/drive/MyDrive/VGG_Face/lfw-deepfunnel...  ...      Yes\n",
              "3  /content/drive/MyDrive/VGG_Face/lfw-deepfunnel...  ...      Yes\n",
              "4  /content/drive/MyDrive/VGG_Face/lfw-deepfunnel...  ...      Yes\n",
              "\n",
              "[5 rows x 3 columns]"
            ]
          },
          "metadata": {
            "tags": []
          },
          "execution_count": 268
        }
      ]
    },
    {
      "cell_type": "code",
      "metadata": {
        "colab": {
          "base_uri": "https://localhost:8080/",
          "height": 197
        },
        "id": "LoeMA3zTWJEj",
        "outputId": "afc6a6b5-4931-4c10-e181-ef64266482dd"
      },
      "source": [
        "df.tail(5)"
      ],
      "execution_count": null,
      "outputs": [
        {
          "output_type": "execute_result",
          "data": {
            "text/html": [
              "<div>\n",
              "<style scoped>\n",
              "    .dataframe tbody tr th:only-of-type {\n",
              "        vertical-align: middle;\n",
              "    }\n",
              "\n",
              "    .dataframe tbody tr th {\n",
              "        vertical-align: top;\n",
              "    }\n",
              "\n",
              "    .dataframe thead th {\n",
              "        text-align: right;\n",
              "    }\n",
              "</style>\n",
              "<table border=\"1\" class=\"dataframe\">\n",
              "  <thead>\n",
              "    <tr style=\"text-align: right;\">\n",
              "      <th></th>\n",
              "      <th>file_x</th>\n",
              "      <th>file_y</th>\n",
              "      <th>decision</th>\n",
              "    </tr>\n",
              "  </thead>\n",
              "  <tbody>\n",
              "    <tr>\n",
              "      <th>295</th>\n",
              "      <td>/content/drive/MyDrive/VGG_Face/lfw-deepfunnel...</td>\n",
              "      <td>/content/drive/MyDrive/VGG_Face/lfw-deepfunnel...</td>\n",
              "      <td>No</td>\n",
              "    </tr>\n",
              "    <tr>\n",
              "      <th>296</th>\n",
              "      <td>/content/drive/MyDrive/VGG_Face/lfw-deepfunnel...</td>\n",
              "      <td>/content/drive/MyDrive/VGG_Face/lfw-deepfunnel...</td>\n",
              "      <td>No</td>\n",
              "    </tr>\n",
              "    <tr>\n",
              "      <th>297</th>\n",
              "      <td>/content/drive/MyDrive/VGG_Face/lfw-deepfunnel...</td>\n",
              "      <td>/content/drive/MyDrive/VGG_Face/lfw-deepfunnel...</td>\n",
              "      <td>No</td>\n",
              "    </tr>\n",
              "    <tr>\n",
              "      <th>298</th>\n",
              "      <td>/content/drive/MyDrive/VGG_Face/lfw-deepfunnel...</td>\n",
              "      <td>/content/drive/MyDrive/VGG_Face/lfw-deepfunnel...</td>\n",
              "      <td>No</td>\n",
              "    </tr>\n",
              "    <tr>\n",
              "      <th>299</th>\n",
              "      <td>/content/drive/MyDrive/VGG_Face/lfw-deepfunnel...</td>\n",
              "      <td>/content/drive/MyDrive/VGG_Face/lfw-deepfunnel...</td>\n",
              "      <td>No</td>\n",
              "    </tr>\n",
              "  </tbody>\n",
              "</table>\n",
              "</div>"
            ],
            "text/plain": [
              "                                                file_x  ... decision\n",
              "295  /content/drive/MyDrive/VGG_Face/lfw-deepfunnel...  ...       No\n",
              "296  /content/drive/MyDrive/VGG_Face/lfw-deepfunnel...  ...       No\n",
              "297  /content/drive/MyDrive/VGG_Face/lfw-deepfunnel...  ...       No\n",
              "298  /content/drive/MyDrive/VGG_Face/lfw-deepfunnel...  ...       No\n",
              "299  /content/drive/MyDrive/VGG_Face/lfw-deepfunnel...  ...       No\n",
              "\n",
              "[5 rows x 3 columns]"
            ]
          },
          "metadata": {
            "tags": []
          },
          "execution_count": 269
        }
      ]
    },
    {
      "cell_type": "code",
      "metadata": {
        "colab": {
          "base_uri": "https://localhost:8080/"
        },
        "id": "CTX1-6DlWPmT",
        "outputId": "9dd45fce-b57e-43f2-a599-365c58e867cf"
      },
      "source": [
        "df.shape"
      ],
      "execution_count": null,
      "outputs": [
        {
          "output_type": "execute_result",
          "data": {
            "text/plain": [
              "(300, 3)"
            ]
          },
          "metadata": {
            "tags": []
          },
          "execution_count": 270
        }
      ]
    },
    {
      "cell_type": "code",
      "metadata": {
        "id": "5UO0JkFJWlMc"
      },
      "source": [
        "instances = df[[\"file_x\", \"file_y\"]].values.tolist()"
      ],
      "execution_count": null,
      "outputs": []
    },
    {
      "cell_type": "code",
      "metadata": {
        "colab": {
          "base_uri": "https://localhost:8080/"
        },
        "id": "x7ZEFsJ9WwZq",
        "outputId": "2279ec0b-d854-4576-ed16-6e13907db1b8"
      },
      "source": [
        "instances[:5]"
      ],
      "execution_count": null,
      "outputs": [
        {
          "output_type": "execute_result",
          "data": {
            "text/plain": [
              "[['/content/drive/MyDrive/VGG_Face/lfw-deepfunneled/dataset/img1.jpg',\n",
              "  '/content/drive/MyDrive/VGG_Face/lfw-deepfunneled/dataset/img2.jpg'],\n",
              " ['/content/drive/MyDrive/VGG_Face/lfw-deepfunneled/dataset/img1.jpg',\n",
              "  '/content/drive/MyDrive/VGG_Face/lfw-deepfunneled/dataset/img4.jpg'],\n",
              " ['/content/drive/MyDrive/VGG_Face/lfw-deepfunneled/dataset/img1.jpg',\n",
              "  '/content/drive/MyDrive/VGG_Face/lfw-deepfunneled/dataset/img5.jpg'],\n",
              " ['/content/drive/MyDrive/VGG_Face/lfw-deepfunneled/dataset/img1.jpg',\n",
              "  '/content/drive/MyDrive/VGG_Face/lfw-deepfunneled/dataset/img6.jpg'],\n",
              " ['/content/drive/MyDrive/VGG_Face/lfw-deepfunneled/dataset/img1.jpg',\n",
              "  '/content/drive/MyDrive/VGG_Face/lfw-deepfunneled/dataset/img7.jpg']]"
            ]
          },
          "metadata": {
            "tags": []
          },
          "execution_count": 272
        }
      ]
    },
    {
      "cell_type": "markdown",
      "metadata": {
        "id": "lDRWcEwYoqKE"
      },
      "source": [
        "**Finding the distance**"
      ]
    },
    {
      "cell_type": "code",
      "metadata": {
        "id": "YRwdi2p6cc-I"
      },
      "source": [
        "euclidean_distance = []\n",
        "for k in instances:\n",
        "    e = verifyFace(k[0],k[1])\n",
        "    euclidean_distance.append(e)"
      ],
      "execution_count": null,
      "outputs": []
    },
    {
      "cell_type": "code",
      "metadata": {
        "colab": {
          "base_uri": "https://localhost:8080/"
        },
        "id": "3Q_keL8xgcPg",
        "outputId": "a20cd6e1-54dc-44b6-de08-293b9cc2bb2c"
      },
      "source": [
        "len(euclidean_distance)"
      ],
      "execution_count": null,
      "outputs": [
        {
          "output_type": "execute_result",
          "data": {
            "text/plain": [
              "300"
            ]
          },
          "metadata": {
            "tags": []
          },
          "execution_count": 277
        }
      ]
    },
    {
      "cell_type": "code",
      "metadata": {
        "id": "SRW4gv6VjEfq"
      },
      "source": [
        "df['euclidean_distance'] = euclidean_distance"
      ],
      "execution_count": null,
      "outputs": []
    },
    {
      "cell_type": "code",
      "metadata": {
        "colab": {
          "base_uri": "https://localhost:8080/",
          "height": 347
        },
        "id": "FZF3QV6hjKmh",
        "outputId": "40af60b4-7eac-4322-c81e-7273de6f187f"
      },
      "source": [
        "df.head(10)"
      ],
      "execution_count": null,
      "outputs": [
        {
          "output_type": "execute_result",
          "data": {
            "text/html": [
              "<div>\n",
              "<style scoped>\n",
              "    .dataframe tbody tr th:only-of-type {\n",
              "        vertical-align: middle;\n",
              "    }\n",
              "\n",
              "    .dataframe tbody tr th {\n",
              "        vertical-align: top;\n",
              "    }\n",
              "\n",
              "    .dataframe thead th {\n",
              "        text-align: right;\n",
              "    }\n",
              "</style>\n",
              "<table border=\"1\" class=\"dataframe\">\n",
              "  <thead>\n",
              "    <tr style=\"text-align: right;\">\n",
              "      <th></th>\n",
              "      <th>file_x</th>\n",
              "      <th>file_y</th>\n",
              "      <th>decision</th>\n",
              "      <th>euclidean_distance</th>\n",
              "    </tr>\n",
              "  </thead>\n",
              "  <tbody>\n",
              "    <tr>\n",
              "      <th>0</th>\n",
              "      <td>/content/drive/MyDrive/VGG_Face/lfw-deepfunnel...</td>\n",
              "      <td>/content/drive/MyDrive/VGG_Face/lfw-deepfunnel...</td>\n",
              "      <td>Yes</td>\n",
              "      <td>104.145653</td>\n",
              "    </tr>\n",
              "    <tr>\n",
              "      <th>1</th>\n",
              "      <td>/content/drive/MyDrive/VGG_Face/lfw-deepfunnel...</td>\n",
              "      <td>/content/drive/MyDrive/VGG_Face/lfw-deepfunnel...</td>\n",
              "      <td>Yes</td>\n",
              "      <td>95.004257</td>\n",
              "    </tr>\n",
              "    <tr>\n",
              "      <th>2</th>\n",
              "      <td>/content/drive/MyDrive/VGG_Face/lfw-deepfunnel...</td>\n",
              "      <td>/content/drive/MyDrive/VGG_Face/lfw-deepfunnel...</td>\n",
              "      <td>Yes</td>\n",
              "      <td>93.676514</td>\n",
              "    </tr>\n",
              "    <tr>\n",
              "      <th>3</th>\n",
              "      <td>/content/drive/MyDrive/VGG_Face/lfw-deepfunnel...</td>\n",
              "      <td>/content/drive/MyDrive/VGG_Face/lfw-deepfunnel...</td>\n",
              "      <td>Yes</td>\n",
              "      <td>122.318024</td>\n",
              "    </tr>\n",
              "    <tr>\n",
              "      <th>4</th>\n",
              "      <td>/content/drive/MyDrive/VGG_Face/lfw-deepfunnel...</td>\n",
              "      <td>/content/drive/MyDrive/VGG_Face/lfw-deepfunnel...</td>\n",
              "      <td>Yes</td>\n",
              "      <td>105.210274</td>\n",
              "    </tr>\n",
              "    <tr>\n",
              "      <th>5</th>\n",
              "      <td>/content/drive/MyDrive/VGG_Face/lfw-deepfunnel...</td>\n",
              "      <td>/content/drive/MyDrive/VGG_Face/lfw-deepfunnel...</td>\n",
              "      <td>Yes</td>\n",
              "      <td>104.633728</td>\n",
              "    </tr>\n",
              "    <tr>\n",
              "      <th>6</th>\n",
              "      <td>/content/drive/MyDrive/VGG_Face/lfw-deepfunnel...</td>\n",
              "      <td>/content/drive/MyDrive/VGG_Face/lfw-deepfunnel...</td>\n",
              "      <td>Yes</td>\n",
              "      <td>123.680077</td>\n",
              "    </tr>\n",
              "    <tr>\n",
              "      <th>7</th>\n",
              "      <td>/content/drive/MyDrive/VGG_Face/lfw-deepfunnel...</td>\n",
              "      <td>/content/drive/MyDrive/VGG_Face/lfw-deepfunnel...</td>\n",
              "      <td>Yes</td>\n",
              "      <td>86.100449</td>\n",
              "    </tr>\n",
              "    <tr>\n",
              "      <th>8</th>\n",
              "      <td>/content/drive/MyDrive/VGG_Face/lfw-deepfunnel...</td>\n",
              "      <td>/content/drive/MyDrive/VGG_Face/lfw-deepfunnel...</td>\n",
              "      <td>Yes</td>\n",
              "      <td>101.632233</td>\n",
              "    </tr>\n",
              "    <tr>\n",
              "      <th>9</th>\n",
              "      <td>/content/drive/MyDrive/VGG_Face/lfw-deepfunnel...</td>\n",
              "      <td>/content/drive/MyDrive/VGG_Face/lfw-deepfunnel...</td>\n",
              "      <td>Yes</td>\n",
              "      <td>108.693283</td>\n",
              "    </tr>\n",
              "  </tbody>\n",
              "</table>\n",
              "</div>"
            ],
            "text/plain": [
              "                                              file_x  ... euclidean_distance\n",
              "0  /content/drive/MyDrive/VGG_Face/lfw-deepfunnel...  ...         104.145653\n",
              "1  /content/drive/MyDrive/VGG_Face/lfw-deepfunnel...  ...          95.004257\n",
              "2  /content/drive/MyDrive/VGG_Face/lfw-deepfunnel...  ...          93.676514\n",
              "3  /content/drive/MyDrive/VGG_Face/lfw-deepfunnel...  ...         122.318024\n",
              "4  /content/drive/MyDrive/VGG_Face/lfw-deepfunnel...  ...         105.210274\n",
              "5  /content/drive/MyDrive/VGG_Face/lfw-deepfunnel...  ...         104.633728\n",
              "6  /content/drive/MyDrive/VGG_Face/lfw-deepfunnel...  ...         123.680077\n",
              "7  /content/drive/MyDrive/VGG_Face/lfw-deepfunnel...  ...          86.100449\n",
              "8  /content/drive/MyDrive/VGG_Face/lfw-deepfunnel...  ...         101.632233\n",
              "9  /content/drive/MyDrive/VGG_Face/lfw-deepfunnel...  ...         108.693283\n",
              "\n",
              "[10 rows x 4 columns]"
            ]
          },
          "metadata": {
            "tags": []
          },
          "execution_count": 280
        }
      ]
    },
    {
      "cell_type": "code",
      "metadata": {
        "colab": {
          "base_uri": "https://localhost:8080/",
          "height": 284
        },
        "id": "DpkvvplPje_g",
        "outputId": "40b50975-d6e6-4bbf-a30a-e37b3d3357f4"
      },
      "source": [
        "df[df.decision == \"Yes\"].euclidean_distance.plot.kde(label='same')\n",
        "df[df.decision == \"No\"].euclidean_distance.plot.kde(label='not same')\n",
        "plt.legend()\n",
        "plt.plot()"
      ],
      "execution_count": null,
      "outputs": [
        {
          "output_type": "execute_result",
          "data": {
            "text/plain": [
              "[]"
            ]
          },
          "metadata": {
            "tags": []
          },
          "execution_count": 288
        },
        {
          "output_type": "display_data",
          "data": {
            "image/png": "[encoded data removed]",
            "text/plain": [
              "<Figure size 432x288 with 1 Axes>"
            ]
          },
          "metadata": {
            "tags": [],
            "needs_background": "light"
          }
        }
      ]
    },
    {
      "cell_type": "code",
      "metadata": {
        "id": "z2qVzVtzjjfk"
      },
      "source": [
        ""
      ],
      "execution_count": null,
      "outputs": []
    }
  ]
}